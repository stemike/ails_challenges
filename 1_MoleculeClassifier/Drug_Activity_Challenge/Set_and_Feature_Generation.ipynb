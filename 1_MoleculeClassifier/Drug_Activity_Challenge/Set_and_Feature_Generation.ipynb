{
 "cells": [
  {
   "cell_type": "code",
   "execution_count": 15,
   "metadata": {},
   "outputs": [],
   "source": [
    "import matplotlib.pyplot as plt\n",
    "import numpy as np\n",
    "import pandas as pd\n",
    "import seaborn as sns\n",
    "\n",
    "from rdkit import Chem\n",
    "from rdkit.Chem import AllChem\n",
    "from rdkit.ML.Descriptors import MoleculeDescriptors\n",
    "from sklearn.model_selection import train_test_split\n",
    "from sklearn.decomposition import PCA, KernelPCA"
   ]
  },
  {
   "cell_type": "code",
   "execution_count": 16,
   "metadata": {},
   "outputs": [],
   "source": [
    "path = \"data/\"\n",
    "seed = 0\n",
    "column_dict = {0:\"Smiles\",\n",
    "               1:\"Task1\", 2:\"Task2\", 3:\"Task3\", 4:\"Task4\", 5:\"Task5\", 6:\"Task6\", 7:\"Task7\", 8:\"Task8\", 9:\"Task9\"}\n",
    "columns_list = list(column_dict.values())\n",
    "desc_names = [desc[0] for desc in Chem.Descriptors._descList]"
   ]
  },
  {
   "cell_type": "code",
   "execution_count": 17,
   "metadata": {},
   "outputs": [
    {
     "name": "stdout",
     "output_type": "stream",
     "text": [
      "(18156, 10)\n"
     ]
    },
    {
     "data": {
      "text/html": [
       "<div>\n",
       "<style scoped>\n",
       "    .dataframe tbody tr th:only-of-type {\n",
       "        vertical-align: middle;\n",
       "    }\n",
       "\n",
       "    .dataframe tbody tr th {\n",
       "        vertical-align: top;\n",
       "    }\n",
       "\n",
       "    .dataframe thead th {\n",
       "        text-align: right;\n",
       "    }\n",
       "</style>\n",
       "<table border=\"1\" class=\"dataframe\">\n",
       "  <thead>\n",
       "    <tr style=\"text-align: right;\">\n",
       "      <th></th>\n",
       "      <th>Smiles</th>\n",
       "      <th>Task1</th>\n",
       "      <th>Task2</th>\n",
       "      <th>Task3</th>\n",
       "      <th>Task4</th>\n",
       "      <th>Task5</th>\n",
       "      <th>Task6</th>\n",
       "      <th>Task7</th>\n",
       "      <th>Task8</th>\n",
       "      <th>Task9</th>\n",
       "    </tr>\n",
       "  </thead>\n",
       "  <tbody>\n",
       "    <tr>\n",
       "      <th>0</th>\n",
       "      <td>O=C(Nc1ccccc1F)c1csc([N+](=O)[O-])c1</td>\n",
       "      <td>NaN</td>\n",
       "      <td>NaN</td>\n",
       "      <td>NaN</td>\n",
       "      <td>NaN</td>\n",
       "      <td>1.0</td>\n",
       "      <td>NaN</td>\n",
       "      <td>NaN</td>\n",
       "      <td>NaN</td>\n",
       "      <td>1.0</td>\n",
       "    </tr>\n",
       "    <tr>\n",
       "      <th>1</th>\n",
       "      <td>C[C@H]([C@H]1C[C@]1(C)[C@H](NC(=O)OCc2ccccc2)c...</td>\n",
       "      <td>NaN</td>\n",
       "      <td>NaN</td>\n",
       "      <td>1.0</td>\n",
       "      <td>1.0</td>\n",
       "      <td>NaN</td>\n",
       "      <td>NaN</td>\n",
       "      <td>NaN</td>\n",
       "      <td>NaN</td>\n",
       "      <td>NaN</td>\n",
       "    </tr>\n",
       "    <tr>\n",
       "      <th>2</th>\n",
       "      <td>C[C@H]([C@@H]1C[C@@]1(C)[C@@H](NC(=O)OCc2ccccc...</td>\n",
       "      <td>NaN</td>\n",
       "      <td>NaN</td>\n",
       "      <td>1.0</td>\n",
       "      <td>1.0</td>\n",
       "      <td>NaN</td>\n",
       "      <td>NaN</td>\n",
       "      <td>NaN</td>\n",
       "      <td>NaN</td>\n",
       "      <td>NaN</td>\n",
       "    </tr>\n",
       "    <tr>\n",
       "      <th>3</th>\n",
       "      <td>COc1ccc(CO\\N=C\\c2c(C)nc(O)nc2O)cc1</td>\n",
       "      <td>NaN</td>\n",
       "      <td>NaN</td>\n",
       "      <td>0.0</td>\n",
       "      <td>0.0</td>\n",
       "      <td>NaN</td>\n",
       "      <td>NaN</td>\n",
       "      <td>NaN</td>\n",
       "      <td>NaN</td>\n",
       "      <td>NaN</td>\n",
       "    </tr>\n",
       "    <tr>\n",
       "      <th>4</th>\n",
       "      <td>CCN1CCC[C@H]1CNC(=O)c2c(O)c(CC)cc(Cl)c2OC</td>\n",
       "      <td>NaN</td>\n",
       "      <td>NaN</td>\n",
       "      <td>0.0</td>\n",
       "      <td>0.0</td>\n",
       "      <td>NaN</td>\n",
       "      <td>NaN</td>\n",
       "      <td>NaN</td>\n",
       "      <td>NaN</td>\n",
       "      <td>NaN</td>\n",
       "    </tr>\n",
       "  </tbody>\n",
       "</table>\n",
       "</div>"
      ],
      "text/plain": [
       "                                              Smiles  Task1  Task2  Task3  \\\n",
       "0               O=C(Nc1ccccc1F)c1csc([N+](=O)[O-])c1    NaN    NaN    NaN   \n",
       "1  C[C@H]([C@H]1C[C@]1(C)[C@H](NC(=O)OCc2ccccc2)c...    NaN    NaN    1.0   \n",
       "2  C[C@H]([C@@H]1C[C@@]1(C)[C@@H](NC(=O)OCc2ccccc...    NaN    NaN    1.0   \n",
       "3                 COc1ccc(CO\\N=C\\c2c(C)nc(O)nc2O)cc1    NaN    NaN    0.0   \n",
       "4          CCN1CCC[C@H]1CNC(=O)c2c(O)c(CC)cc(Cl)c2OC    NaN    NaN    0.0   \n",
       "\n",
       "   Task4  Task5  Task6  Task7  Task8  Task9  \n",
       "0    NaN    1.0    NaN    NaN    NaN    1.0  \n",
       "1    1.0    NaN    NaN    NaN    NaN    NaN  \n",
       "2    1.0    NaN    NaN    NaN    NaN    NaN  \n",
       "3    0.0    NaN    NaN    NaN    NaN    NaN  \n",
       "4    0.0    NaN    NaN    NaN    NaN    NaN  "
      ]
     },
     "execution_count": 17,
     "metadata": {},
     "output_type": "execute_result"
    }
   ],
   "source": [
    "x = pd.read_csv(\"{}smiles_train.csv\".format(path))\n",
    "y = pd.read_csv(\"{}y_train.csv\".format(path), na_values=\"-1\")\n",
    "df = pd.concat([x, y],axis=1, ignore_index = True)\n",
    "df = df.rename(columns=column_dict)\n",
    "print(df.shape)\n",
    "df.head()"
   ]
  },
  {
   "cell_type": "code",
   "execution_count": 18,
   "metadata": {},
   "outputs": [
    {
     "name": "stdout",
     "output_type": "stream",
     "text": [
      "Index(['Task1', 'Task2', 'Task3', 'Task4', 'Task5', 'Task6', 'Task7', 'Task8',\n",
      "       'Task9'],\n",
      "      dtype='object')\n"
     ]
    }
   ],
   "source": [
    "df = df.drop_duplicates(ignore_index=True)\n",
    "df.shape\n",
    "num_mol = df.shape[0]\n",
    "#Check for null values\n",
    "print(df.columns[df.isnull().sum() > 0])"
   ]
  },
  {
   "cell_type": "code",
   "execution_count": 19,
   "metadata": {},
   "outputs": [
    {
     "data": {
      "image/png": "[encoded data removed]",
      "text/plain": [
       "<Figure size 432x288 with 1 Axes>"
      ]
     },
     "metadata": {
      "needs_background": "light"
     },
     "output_type": "display_data"
    },
    {
     "name": "stdout",
     "output_type": "stream",
     "text": [
      "0.0    1842\n",
      "1.0    1712\n",
      "Name: Task1, dtype: int64\n"
     ]
    },
    {
     "data": {
      "image/png": "[encoded data removed]",
      "text/plain": [
       "<Figure size 432x288 with 1 Axes>"
      ]
     },
     "metadata": {
      "needs_background": "light"
     },
     "output_type": "display_data"
    },
    {
     "name": "stdout",
     "output_type": "stream",
     "text": [
      "0.0    755\n",
      "1.0    366\n",
      "Name: Task2, dtype: int64\n"
     ]
    },
    {
     "data": {
      "image/png": "[encoded data removed]",
      "text/plain": [
       "<Figure size 432x288 with 1 Axes>"
      ]
     },
     "metadata": {
      "needs_background": "light"
     },
     "output_type": "display_data"
    },
    {
     "name": "stdout",
     "output_type": "stream",
     "text": [
      "0.0    5139\n",
      "1.0    2636\n",
      "Name: Task3, dtype: int64\n"
     ]
    },
    {
     "data": {
      "image/png": "[encoded data removed]",
      "text/plain": [
       "<Figure size 432x288 with 1 Axes>"
      ]
     },
     "metadata": {
      "needs_background": "light"
     },
     "output_type": "display_data"
    },
    {
     "name": "stdout",
     "output_type": "stream",
     "text": [
      "0.0    4579\n",
      "1.0    3282\n",
      "Name: Task4, dtype: int64\n"
     ]
    },
    {
     "data": {
      "image/png": "[encoded data removed]",
      "text/plain": [
       "<Figure size 432x288 with 1 Axes>"
      ]
     },
     "metadata": {
      "needs_background": "light"
     },
     "output_type": "display_data"
    },
    {
     "name": "stdout",
     "output_type": "stream",
     "text": [
      "1.0    1586\n",
      "0.0    1267\n",
      "Name: Task5, dtype: int64\n"
     ]
    },
    {
     "data": {
      "image/png": "[encoded data removed]",
      "text/plain": [
       "<Figure size 432x288 with 1 Axes>"
      ]
     },
     "metadata": {
      "needs_background": "light"
     },
     "output_type": "display_data"
    },
    {
     "name": "stdout",
     "output_type": "stream",
     "text": [
      "0.0    212\n",
      "1.0    166\n",
      "Name: Task6, dtype: int64\n"
     ]
    },
    {
     "data": {
      "image/png": "[encoded data removed]",
      "text/plain": [
       "<Figure size 432x288 with 1 Axes>"
      ]
     },
     "metadata": {
      "needs_background": "light"
     },
     "output_type": "display_data"
    },
    {
     "name": "stdout",
     "output_type": "stream",
     "text": [
      "1.0    974\n",
      "0.0    462\n",
      "Name: Task7, dtype: int64\n"
     ]
    },
    {
     "data": {
      "image/png": "[encoded data removed]",
      "text/plain": [
       "<Figure size 432x288 with 1 Axes>"
      ]
     },
     "metadata": {
      "needs_background": "light"
     },
     "output_type": "display_data"
    },
    {
     "name": "stdout",
     "output_type": "stream",
     "text": [
      "1.0    1605\n",
      "0.0     509\n",
      "Name: Task8, dtype: int64\n"
     ]
    },
    {
     "data": {
      "image/png": "[encoded data removed]",
      "text/plain": [
       "<Figure size 432x288 with 1 Axes>"
      ]
     },
     "metadata": {
      "needs_background": "light"
     },
     "output_type": "display_data"
    },
    {
     "name": "stdout",
     "output_type": "stream",
     "text": [
      "0.0    2398\n",
      "1.0    1602\n",
      "Name: Task9, dtype: int64\n"
     ]
    }
   ],
   "source": [
    "#Show data (im)balance\n",
    "for target in columns_list[1:]:\n",
    "    sns.countplot(x=target, data=df)\n",
    "    plt.show()\n",
    "    print(df[target].value_counts())"
   ]
  },
  {
   "cell_type": "markdown",
   "metadata": {},
   "source": [
    "# Train"
   ]
  },
  {
   "cell_type": "code",
   "execution_count": 20,
   "metadata": {},
   "outputs": [],
   "source": [
    "def get_Descriptors(df, desc_names):\n",
    "    num_mol = len(df[\"Smiles\"])\n",
    "    mol_desc_calc = MoleculeDescriptors.MolecularDescriptorCalculator(desc_names)\n",
    "    desc_mat = np.zeros((num_mol,len(desc_names)))\n",
    "    verbosity = int(num_mol*0.05)\n",
    "    for i in range(num_mol):\n",
    "        smile = df[\"Smiles\"][i]\n",
    "        if  i % verbosity == 0:\n",
    "            print(\"{} out of {} = {}%\".format(i,num_mol, int(i*100/num_mol)))\n",
    "        mol = Chem.MolFromSmiles(smile)\n",
    "        if mol is None:\n",
    "            print(\"Invalid Molecule at index {}, {}\".format(i,smile))\n",
    "            desc_mat[i] = np.nan\n",
    "        else:\n",
    "            desc_mat[i] = mol_desc_calc.CalcDescriptors(mol)\n",
    "    \n",
    "    df_desc = pd.DataFrame(desc_mat, columns = desc_names)\n",
    "    df_desc = df_desc.replace([np.inf, -np.inf], np.nan)\n",
    "    print(df_desc.columns[df_desc.isnull().sum() > 0])\n",
    "    df_desc = df_desc.fillna(df_desc.median())\n",
    "    print(df_desc.columns[df_desc.isnull().sum() > 0])\n",
    "    \n",
    "    return df_desc"
   ]
  },
  {
   "cell_type": "code",
   "execution_count": 21,
   "metadata": {},
   "outputs": [
    {
     "name": "stdout",
     "output_type": "stream",
     "text": [
      "0 out of 18122 = 0%\n",
      "906 out of 18122 = 4%\n",
      "1812 out of 18122 = 9%\n",
      "2718 out of 18122 = 14%\n",
      "3624 out of 18122 = 19%\n",
      "4530 out of 18122 = 24%\n",
      "5436 out of 18122 = 29%\n",
      "6342 out of 18122 = 34%\n",
      "7248 out of 18122 = 39%\n",
      "8154 out of 18122 = 44%\n",
      "9060 out of 18122 = 49%\n",
      "9966 out of 18122 = 54%\n",
      "10872 out of 18122 = 59%\n",
      "11778 out of 18122 = 64%\n",
      "12684 out of 18122 = 69%\n",
      "13590 out of 18122 = 74%\n",
      "14496 out of 18122 = 79%\n",
      "15402 out of 18122 = 84%\n",
      "16308 out of 18122 = 89%\n",
      "17214 out of 18122 = 94%\n",
      "18120 out of 18122 = 99%\n",
      "Index(['MaxPartialCharge', 'MinPartialCharge', 'MaxAbsPartialCharge',\n",
      "       'MinAbsPartialCharge'],\n",
      "      dtype='object')\n",
      "Index([], dtype='object')\n"
     ]
    },
    {
     "data": {
      "text/html": [
       "<div>\n",
       "<style scoped>\n",
       "    .dataframe tbody tr th:only-of-type {\n",
       "        vertical-align: middle;\n",
       "    }\n",
       "\n",
       "    .dataframe tbody tr th {\n",
       "        vertical-align: top;\n",
       "    }\n",
       "\n",
       "    .dataframe thead th {\n",
       "        text-align: right;\n",
       "    }\n",
       "</style>\n",
       "<table border=\"1\" class=\"dataframe\">\n",
       "  <thead>\n",
       "    <tr style=\"text-align: right;\">\n",
       "      <th></th>\n",
       "      <th>MaxEStateIndex</th>\n",
       "      <th>MinEStateIndex</th>\n",
       "      <th>MaxAbsEStateIndex</th>\n",
       "      <th>MinAbsEStateIndex</th>\n",
       "      <th>qed</th>\n",
       "      <th>MolWt</th>\n",
       "      <th>HeavyAtomMolWt</th>\n",
       "      <th>ExactMolWt</th>\n",
       "      <th>NumValenceElectrons</th>\n",
       "      <th>NumRadicalElectrons</th>\n",
       "      <th>...</th>\n",
       "      <th>fr_sulfide</th>\n",
       "      <th>fr_sulfonamd</th>\n",
       "      <th>fr_sulfone</th>\n",
       "      <th>fr_term_acetylene</th>\n",
       "      <th>fr_tetrazole</th>\n",
       "      <th>fr_thiazole</th>\n",
       "      <th>fr_thiocyan</th>\n",
       "      <th>fr_thiophene</th>\n",
       "      <th>fr_unbrch_alkane</th>\n",
       "      <th>fr_urea</th>\n",
       "    </tr>\n",
       "  </thead>\n",
       "  <tbody>\n",
       "    <tr>\n",
       "      <th>0</th>\n",
       "      <td>13.278775</td>\n",
       "      <td>-0.579213</td>\n",
       "      <td>13.278775</td>\n",
       "      <td>0.038290</td>\n",
       "      <td>0.685096</td>\n",
       "      <td>266.253</td>\n",
       "      <td>259.197</td>\n",
       "      <td>266.016141</td>\n",
       "      <td>92.0</td>\n",
       "      <td>0.0</td>\n",
       "      <td>...</td>\n",
       "      <td>0.0</td>\n",
       "      <td>0.0</td>\n",
       "      <td>0.0</td>\n",
       "      <td>0.0</td>\n",
       "      <td>0.0</td>\n",
       "      <td>0.0</td>\n",
       "      <td>0.0</td>\n",
       "      <td>1.0</td>\n",
       "      <td>0.0</td>\n",
       "      <td>0.0</td>\n",
       "    </tr>\n",
       "    <tr>\n",
       "      <th>1</th>\n",
       "      <td>12.662032</td>\n",
       "      <td>-0.434797</td>\n",
       "      <td>12.662032</td>\n",
       "      <td>0.086017</td>\n",
       "      <td>0.609790</td>\n",
       "      <td>420.553</td>\n",
       "      <td>388.297</td>\n",
       "      <td>420.241293</td>\n",
       "      <td>164.0</td>\n",
       "      <td>0.0</td>\n",
       "      <td>...</td>\n",
       "      <td>0.0</td>\n",
       "      <td>0.0</td>\n",
       "      <td>0.0</td>\n",
       "      <td>0.0</td>\n",
       "      <td>0.0</td>\n",
       "      <td>0.0</td>\n",
       "      <td>0.0</td>\n",
       "      <td>0.0</td>\n",
       "      <td>0.0</td>\n",
       "      <td>0.0</td>\n",
       "    </tr>\n",
       "    <tr>\n",
       "      <th>2</th>\n",
       "      <td>12.662032</td>\n",
       "      <td>-0.434797</td>\n",
       "      <td>12.662032</td>\n",
       "      <td>0.086017</td>\n",
       "      <td>0.609790</td>\n",
       "      <td>420.553</td>\n",
       "      <td>388.297</td>\n",
       "      <td>420.241293</td>\n",
       "      <td>164.0</td>\n",
       "      <td>0.0</td>\n",
       "      <td>...</td>\n",
       "      <td>0.0</td>\n",
       "      <td>0.0</td>\n",
       "      <td>0.0</td>\n",
       "      <td>0.0</td>\n",
       "      <td>0.0</td>\n",
       "      <td>0.0</td>\n",
       "      <td>0.0</td>\n",
       "      <td>0.0</td>\n",
       "      <td>0.0</td>\n",
       "      <td>0.0</td>\n",
       "    </tr>\n",
       "    <tr>\n",
       "      <th>3</th>\n",
       "      <td>9.574412</td>\n",
       "      <td>-0.484906</td>\n",
       "      <td>9.574412</td>\n",
       "      <td>0.277028</td>\n",
       "      <td>0.642690</td>\n",
       "      <td>289.291</td>\n",
       "      <td>274.171</td>\n",
       "      <td>289.106256</td>\n",
       "      <td>110.0</td>\n",
       "      <td>0.0</td>\n",
       "      <td>...</td>\n",
       "      <td>0.0</td>\n",
       "      <td>0.0</td>\n",
       "      <td>0.0</td>\n",
       "      <td>0.0</td>\n",
       "      <td>0.0</td>\n",
       "      <td>0.0</td>\n",
       "      <td>0.0</td>\n",
       "      <td>0.0</td>\n",
       "      <td>0.0</td>\n",
       "      <td>0.0</td>\n",
       "    </tr>\n",
       "    <tr>\n",
       "      <th>4</th>\n",
       "      <td>12.589046</td>\n",
       "      <td>-0.347682</td>\n",
       "      <td>12.589046</td>\n",
       "      <td>0.050908</td>\n",
       "      <td>0.835583</td>\n",
       "      <td>340.851</td>\n",
       "      <td>315.651</td>\n",
       "      <td>340.155370</td>\n",
       "      <td>128.0</td>\n",
       "      <td>0.0</td>\n",
       "      <td>...</td>\n",
       "      <td>0.0</td>\n",
       "      <td>0.0</td>\n",
       "      <td>0.0</td>\n",
       "      <td>0.0</td>\n",
       "      <td>0.0</td>\n",
       "      <td>0.0</td>\n",
       "      <td>0.0</td>\n",
       "      <td>0.0</td>\n",
       "      <td>0.0</td>\n",
       "      <td>0.0</td>\n",
       "    </tr>\n",
       "  </tbody>\n",
       "</table>\n",
       "<p>5 rows × 200 columns</p>\n",
       "</div>"
      ],
      "text/plain": [
       "   MaxEStateIndex  MinEStateIndex  MaxAbsEStateIndex  MinAbsEStateIndex  \\\n",
       "0       13.278775       -0.579213          13.278775           0.038290   \n",
       "1       12.662032       -0.434797          12.662032           0.086017   \n",
       "2       12.662032       -0.434797          12.662032           0.086017   \n",
       "3        9.574412       -0.484906           9.574412           0.277028   \n",
       "4       12.589046       -0.347682          12.589046           0.050908   \n",
       "\n",
       "        qed    MolWt  HeavyAtomMolWt  ExactMolWt  NumValenceElectrons  \\\n",
       "0  0.685096  266.253         259.197  266.016141                 92.0   \n",
       "1  0.609790  420.553         388.297  420.241293                164.0   \n",
       "2  0.609790  420.553         388.297  420.241293                164.0   \n",
       "3  0.642690  289.291         274.171  289.106256                110.0   \n",
       "4  0.835583  340.851         315.651  340.155370                128.0   \n",
       "\n",
       "   NumRadicalElectrons  ...  fr_sulfide  fr_sulfonamd  fr_sulfone  \\\n",
       "0                  0.0  ...         0.0           0.0         0.0   \n",
       "1                  0.0  ...         0.0           0.0         0.0   \n",
       "2                  0.0  ...         0.0           0.0         0.0   \n",
       "3                  0.0  ...         0.0           0.0         0.0   \n",
       "4                  0.0  ...         0.0           0.0         0.0   \n",
       "\n",
       "   fr_term_acetylene  fr_tetrazole  fr_thiazole  fr_thiocyan  fr_thiophene  \\\n",
       "0                0.0           0.0          0.0          0.0           1.0   \n",
       "1                0.0           0.0          0.0          0.0           0.0   \n",
       "2                0.0           0.0          0.0          0.0           0.0   \n",
       "3                0.0           0.0          0.0          0.0           0.0   \n",
       "4                0.0           0.0          0.0          0.0           0.0   \n",
       "\n",
       "   fr_unbrch_alkane  fr_urea  \n",
       "0               0.0      0.0  \n",
       "1               0.0      0.0  \n",
       "2               0.0      0.0  \n",
       "3               0.0      0.0  \n",
       "4               0.0      0.0  \n",
       "\n",
       "[5 rows x 200 columns]"
      ]
     },
     "execution_count": 21,
     "metadata": {},
     "output_type": "execute_result"
    }
   ],
   "source": [
    "df_desc = get_Descriptors(df, desc_names)\n",
    "df_desc.head()"
   ]
  },
  {
   "cell_type": "code",
   "execution_count": 22,
   "metadata": {},
   "outputs": [
    {
     "name": "stdout",
     "output_type": "stream",
     "text": [
      "(18122, 200)\n"
     ]
    },
    {
     "data": {
      "text/plain": [
       "(18122, 197)"
      ]
     },
     "execution_count": 22,
     "metadata": {},
     "output_type": "execute_result"
    }
   ],
   "source": [
    "#Drop non info columns\n",
    "df = df.drop([\"Smiles\"], axis = 1)\n",
    "\n",
    "print(df_desc.shape)\n",
    "mono_columns = df_desc.columns[[len(np.unique(df_desc[col])) == 1 for col in df_desc.columns]]\n",
    "df_desc = df_desc.drop(mono_columns,axis = 1)\n",
    "df_desc.shape"
   ]
  },
  {
   "cell_type": "code",
   "execution_count": 23,
   "metadata": {},
   "outputs": [
    {
     "name": "stdout",
     "output_type": "stream",
     "text": [
      "[16, 15, 15, 15, 15, 15, 14, 14, 14, 14, 14, 13, 13, 12, 7, 5, 4, 4, 3, 3, 3, 3, 3, 3, 3, 2, 2, 2, 2, 2, 2, 2, 2, 2, 2, 2, 2, 2, 2, 2, 2, 2, 2, 2, 2, 2, 2, 2, 2, 2, 1, 1, 1, 1, 1, 1, 1, 1, 1, 1, 1, 1, 1, 1, 1, 1, 1, 1, 1, 1, 1, 1, 1, 1, 1, 1, 1, 1, 1, 1, 1, 1, 1, 1, 1, 1, 1, 1, 1, 1, 1, 1, 1, 1, 1, 1, 1, 1, 1, 1, 1, 1, 1, 1, 1, 1, 1, 1, 1, 1, 1, 1, 1, 1, 1, 1, 1, 1, 1, 1, 1, 1, 1, 1, 1, 1, 1, 1, 1, 1, 1, 1, 1, 1, 1, 1, 1, 1, 1, 1, 1, 1, 1, 1, 1, 1, 1, 1, 1, 1, 1, 1, 1, 1, 1, 1, 1, 1, 1, 1, 1, 1, 1, 1, 1, 1, 1, 1, 1, 1, 1, 1, 1, 1, 1, 1, 1, 1, 1, 1, 1, 1, 1, 1, 1, 1, 1, 1, 1, 1, 1, 1, 1, 1, 1, 1, 0]\n",
      "['Chi1v', 'LabuteASA', 'Chi0n', 'Chi0v', 'Chi1', 'HeavyAtomCount', 'NumValenceElectrons', 'MolMR', 'Chi1n', 'Chi2n', 'Chi0', 'ExactMolWt', 'MolWt', 'HeavyAtomMolWt']\n"
     ]
    },
    {
     "data": {
      "text/plain": [
       "(18122, 183)"
      ]
     },
     "execution_count": 23,
     "metadata": {},
     "output_type": "execute_result"
    }
   ],
   "source": [
    "corr = df_desc.corr()\n",
    "high_corr_attr = corr[(corr.abs()>0.9)].count().sort_values(ascending= False)\n",
    "print(list(high_corr_attr))\n",
    "correlated_columns = list(high_corr_attr[high_corr_attr > 10].index)\n",
    "print(correlated_columns)\n",
    "df_desc = df_desc.drop(correlated_columns,axis = 1)\n",
    "df_desc.shape"
   ]
  },
  {
   "cell_type": "code",
   "execution_count": 24,
   "metadata": {},
   "outputs": [
    {
     "data": {
      "text/html": [
       "<div>\n",
       "<style scoped>\n",
       "    .dataframe tbody tr th:only-of-type {\n",
       "        vertical-align: middle;\n",
       "    }\n",
       "\n",
       "    .dataframe tbody tr th {\n",
       "        vertical-align: top;\n",
       "    }\n",
       "\n",
       "    .dataframe thead th {\n",
       "        text-align: right;\n",
       "    }\n",
       "</style>\n",
       "<table border=\"1\" class=\"dataframe\">\n",
       "  <thead>\n",
       "    <tr style=\"text-align: right;\">\n",
       "      <th></th>\n",
       "      <th>MaxEStateIndex</th>\n",
       "      <th>MinEStateIndex</th>\n",
       "      <th>MaxAbsEStateIndex</th>\n",
       "      <th>MinAbsEStateIndex</th>\n",
       "      <th>qed</th>\n",
       "      <th>NumRadicalElectrons</th>\n",
       "      <th>MaxPartialCharge</th>\n",
       "      <th>MinPartialCharge</th>\n",
       "      <th>MaxAbsPartialCharge</th>\n",
       "      <th>MinAbsPartialCharge</th>\n",
       "      <th>...</th>\n",
       "      <th>fr_urea</th>\n",
       "      <th>Task1</th>\n",
       "      <th>Task2</th>\n",
       "      <th>Task3</th>\n",
       "      <th>Task4</th>\n",
       "      <th>Task5</th>\n",
       "      <th>Task6</th>\n",
       "      <th>Task7</th>\n",
       "      <th>Task8</th>\n",
       "      <th>Task9</th>\n",
       "    </tr>\n",
       "  </thead>\n",
       "  <tbody>\n",
       "    <tr>\n",
       "      <th>0</th>\n",
       "      <td>13.278775</td>\n",
       "      <td>-0.579213</td>\n",
       "      <td>13.278775</td>\n",
       "      <td>0.038290</td>\n",
       "      <td>0.685096</td>\n",
       "      <td>0.0</td>\n",
       "      <td>0.324371</td>\n",
       "      <td>-0.319424</td>\n",
       "      <td>0.324371</td>\n",
       "      <td>0.319424</td>\n",
       "      <td>...</td>\n",
       "      <td>0.0</td>\n",
       "      <td>NaN</td>\n",
       "      <td>NaN</td>\n",
       "      <td>NaN</td>\n",
       "      <td>NaN</td>\n",
       "      <td>1.0</td>\n",
       "      <td>NaN</td>\n",
       "      <td>NaN</td>\n",
       "      <td>NaN</td>\n",
       "      <td>1.0</td>\n",
       "    </tr>\n",
       "    <tr>\n",
       "      <th>1</th>\n",
       "      <td>12.662032</td>\n",
       "      <td>-0.434797</td>\n",
       "      <td>12.662032</td>\n",
       "      <td>0.086017</td>\n",
       "      <td>0.609790</td>\n",
       "      <td>0.0</td>\n",
       "      <td>0.407471</td>\n",
       "      <td>-0.444678</td>\n",
       "      <td>0.444678</td>\n",
       "      <td>0.407471</td>\n",
       "      <td>...</td>\n",
       "      <td>0.0</td>\n",
       "      <td>NaN</td>\n",
       "      <td>NaN</td>\n",
       "      <td>1.0</td>\n",
       "      <td>1.0</td>\n",
       "      <td>NaN</td>\n",
       "      <td>NaN</td>\n",
       "      <td>NaN</td>\n",
       "      <td>NaN</td>\n",
       "      <td>NaN</td>\n",
       "    </tr>\n",
       "    <tr>\n",
       "      <th>2</th>\n",
       "      <td>12.662032</td>\n",
       "      <td>-0.434797</td>\n",
       "      <td>12.662032</td>\n",
       "      <td>0.086017</td>\n",
       "      <td>0.609790</td>\n",
       "      <td>0.0</td>\n",
       "      <td>0.407471</td>\n",
       "      <td>-0.444678</td>\n",
       "      <td>0.444678</td>\n",
       "      <td>0.407471</td>\n",
       "      <td>...</td>\n",
       "      <td>0.0</td>\n",
       "      <td>NaN</td>\n",
       "      <td>NaN</td>\n",
       "      <td>1.0</td>\n",
       "      <td>1.0</td>\n",
       "      <td>NaN</td>\n",
       "      <td>NaN</td>\n",
       "      <td>NaN</td>\n",
       "      <td>NaN</td>\n",
       "      <td>NaN</td>\n",
       "    </tr>\n",
       "    <tr>\n",
       "      <th>3</th>\n",
       "      <td>9.574412</td>\n",
       "      <td>-0.484906</td>\n",
       "      <td>9.574412</td>\n",
       "      <td>0.277028</td>\n",
       "      <td>0.642690</td>\n",
       "      <td>0.0</td>\n",
       "      <td>0.316957</td>\n",
       "      <td>-0.496768</td>\n",
       "      <td>0.496768</td>\n",
       "      <td>0.316957</td>\n",
       "      <td>...</td>\n",
       "      <td>0.0</td>\n",
       "      <td>NaN</td>\n",
       "      <td>NaN</td>\n",
       "      <td>0.0</td>\n",
       "      <td>0.0</td>\n",
       "      <td>NaN</td>\n",
       "      <td>NaN</td>\n",
       "      <td>NaN</td>\n",
       "      <td>NaN</td>\n",
       "      <td>NaN</td>\n",
       "    </tr>\n",
       "    <tr>\n",
       "      <th>4</th>\n",
       "      <td>12.589046</td>\n",
       "      <td>-0.347682</td>\n",
       "      <td>12.589046</td>\n",
       "      <td>0.050908</td>\n",
       "      <td>0.835583</td>\n",
       "      <td>0.0</td>\n",
       "      <td>0.258466</td>\n",
       "      <td>-0.506680</td>\n",
       "      <td>0.506680</td>\n",
       "      <td>0.258466</td>\n",
       "      <td>...</td>\n",
       "      <td>0.0</td>\n",
       "      <td>NaN</td>\n",
       "      <td>NaN</td>\n",
       "      <td>0.0</td>\n",
       "      <td>0.0</td>\n",
       "      <td>NaN</td>\n",
       "      <td>NaN</td>\n",
       "      <td>NaN</td>\n",
       "      <td>NaN</td>\n",
       "      <td>NaN</td>\n",
       "    </tr>\n",
       "  </tbody>\n",
       "</table>\n",
       "<p>5 rows × 192 columns</p>\n",
       "</div>"
      ],
      "text/plain": [
       "   MaxEStateIndex  MinEStateIndex  MaxAbsEStateIndex  MinAbsEStateIndex  \\\n",
       "0       13.278775       -0.579213          13.278775           0.038290   \n",
       "1       12.662032       -0.434797          12.662032           0.086017   \n",
       "2       12.662032       -0.434797          12.662032           0.086017   \n",
       "3        9.574412       -0.484906           9.574412           0.277028   \n",
       "4       12.589046       -0.347682          12.589046           0.050908   \n",
       "\n",
       "        qed  NumRadicalElectrons  MaxPartialCharge  MinPartialCharge  \\\n",
       "0  0.685096                  0.0          0.324371         -0.319424   \n",
       "1  0.609790                  0.0          0.407471         -0.444678   \n",
       "2  0.609790                  0.0          0.407471         -0.444678   \n",
       "3  0.642690                  0.0          0.316957         -0.496768   \n",
       "4  0.835583                  0.0          0.258466         -0.506680   \n",
       "\n",
       "   MaxAbsPartialCharge  MinAbsPartialCharge  ...  fr_urea  Task1  Task2  \\\n",
       "0             0.324371             0.319424  ...      0.0    NaN    NaN   \n",
       "1             0.444678             0.407471  ...      0.0    NaN    NaN   \n",
       "2             0.444678             0.407471  ...      0.0    NaN    NaN   \n",
       "3             0.496768             0.316957  ...      0.0    NaN    NaN   \n",
       "4             0.506680             0.258466  ...      0.0    NaN    NaN   \n",
       "\n",
       "   Task3  Task4  Task5  Task6  Task7  Task8  Task9  \n",
       "0    NaN    NaN    1.0    NaN    NaN    NaN    1.0  \n",
       "1    1.0    1.0    NaN    NaN    NaN    NaN    NaN  \n",
       "2    1.0    1.0    NaN    NaN    NaN    NaN    NaN  \n",
       "3    0.0    0.0    NaN    NaN    NaN    NaN    NaN  \n",
       "4    0.0    0.0    NaN    NaN    NaN    NaN    NaN  \n",
       "\n",
       "[5 rows x 192 columns]"
      ]
     },
     "execution_count": 24,
     "metadata": {},
     "output_type": "execute_result"
    }
   ],
   "source": [
    "data = pd.concat([df_desc, df],axis=1, ignore_index = True)\n",
    "data.columns = list(df_desc.columns) + list(df.columns)\n",
    "\n",
    "appendix = \"desc_\"\n",
    "data.to_csv(\"{}{}train.csv\".format(path,appendix), index=None)\n",
    "data.head()"
   ]
  },
  {
   "cell_type": "markdown",
   "metadata": {},
   "source": [
    "# Test Data"
   ]
  },
  {
   "cell_type": "code",
   "execution_count": 25,
   "metadata": {},
   "outputs": [
    {
     "data": {
      "text/html": [
       "<div>\n",
       "<style scoped>\n",
       "    .dataframe tbody tr th:only-of-type {\n",
       "        vertical-align: middle;\n",
       "    }\n",
       "\n",
       "    .dataframe tbody tr th {\n",
       "        vertical-align: top;\n",
       "    }\n",
       "\n",
       "    .dataframe thead th {\n",
       "        text-align: right;\n",
       "    }\n",
       "</style>\n",
       "<table border=\"1\" class=\"dataframe\">\n",
       "  <thead>\n",
       "    <tr style=\"text-align: right;\">\n",
       "      <th></th>\n",
       "      <th>Smiles</th>\n",
       "    </tr>\n",
       "  </thead>\n",
       "  <tbody>\n",
       "    <tr>\n",
       "      <th>0</th>\n",
       "      <td>OC(=O)CCC(=O)c1ccc2ccc3cccc4ccc1c2c34</td>\n",
       "    </tr>\n",
       "    <tr>\n",
       "      <th>1</th>\n",
       "      <td>C#Cc1cccc(Nc2ncnc3cc(OCCOC)c(OCCOC)cc23)c1</td>\n",
       "    </tr>\n",
       "    <tr>\n",
       "      <th>2</th>\n",
       "      <td>Clc1ccc(cc1)n2nnnc2CN3CCOCC3</td>\n",
       "    </tr>\n",
       "    <tr>\n",
       "      <th>3</th>\n",
       "      <td>CC1(C)C2(C)CCC1(OC2=O)C(=O)Nc3ncc(s3)[N+](=O)[O-]</td>\n",
       "    </tr>\n",
       "    <tr>\n",
       "      <th>4</th>\n",
       "      <td>CCOC(=O)C[C@@H](CC(=O)C)C(=O)OCC</td>\n",
       "    </tr>\n",
       "  </tbody>\n",
       "</table>\n",
       "</div>"
      ],
      "text/plain": [
       "                                              Smiles\n",
       "0              OC(=O)CCC(=O)c1ccc2ccc3cccc4ccc1c2c34\n",
       "1         C#Cc1cccc(Nc2ncnc3cc(OCCOC)c(OCCOC)cc23)c1\n",
       "2                       Clc1ccc(cc1)n2nnnc2CN3CCOCC3\n",
       "3  CC1(C)C2(C)CCC1(OC2=O)C(=O)Nc3ncc(s3)[N+](=O)[O-]\n",
       "4                   CCOC(=O)C[C@@H](CC(=O)C)C(=O)OCC"
      ]
     },
     "execution_count": 25,
     "metadata": {},
     "output_type": "execute_result"
    }
   ],
   "source": [
    "x_test = pd.read_csv(\"{}smiles_test.csv\".format(path))\n",
    "x_test.head()"
   ]
  },
  {
   "cell_type": "code",
   "execution_count": 26,
   "metadata": {},
   "outputs": [
    {
     "name": "stdout",
     "output_type": "stream",
     "text": [
      "0 out of 9470 = 0%\n",
      "473 out of 9470 = 4%\n",
      "946 out of 9470 = 9%\n",
      "1419 out of 9470 = 14%\n",
      "1892 out of 9470 = 19%\n",
      "2365 out of 9470 = 24%\n",
      "2838 out of 9470 = 29%\n",
      "3311 out of 9470 = 34%\n",
      "3784 out of 9470 = 39%\n",
      "4257 out of 9470 = 44%\n",
      "4730 out of 9470 = 49%\n",
      "5203 out of 9470 = 54%\n",
      "5676 out of 9470 = 59%\n",
      "6149 out of 9470 = 64%\n",
      "6622 out of 9470 = 69%\n",
      "7095 out of 9470 = 74%\n",
      "7568 out of 9470 = 79%\n",
      "8041 out of 9470 = 84%\n",
      "8514 out of 9470 = 89%\n",
      "8987 out of 9470 = 94%\n",
      "9460 out of 9470 = 99%\n",
      "Index(['MaxPartialCharge', 'MinPartialCharge', 'MaxAbsPartialCharge',\n",
      "       'MinAbsPartialCharge'],\n",
      "      dtype='object')\n",
      "Index([], dtype='object')\n"
     ]
    },
    {
     "data": {
      "text/html": [
       "<div>\n",
       "<style scoped>\n",
       "    .dataframe tbody tr th:only-of-type {\n",
       "        vertical-align: middle;\n",
       "    }\n",
       "\n",
       "    .dataframe tbody tr th {\n",
       "        vertical-align: top;\n",
       "    }\n",
       "\n",
       "    .dataframe thead th {\n",
       "        text-align: right;\n",
       "    }\n",
       "</style>\n",
       "<table border=\"1\" class=\"dataframe\">\n",
       "  <thead>\n",
       "    <tr style=\"text-align: right;\">\n",
       "      <th></th>\n",
       "      <th>MaxEStateIndex</th>\n",
       "      <th>MinEStateIndex</th>\n",
       "      <th>MaxAbsEStateIndex</th>\n",
       "      <th>MinAbsEStateIndex</th>\n",
       "      <th>qed</th>\n",
       "      <th>MolWt</th>\n",
       "      <th>HeavyAtomMolWt</th>\n",
       "      <th>ExactMolWt</th>\n",
       "      <th>NumValenceElectrons</th>\n",
       "      <th>NumRadicalElectrons</th>\n",
       "      <th>...</th>\n",
       "      <th>fr_sulfide</th>\n",
       "      <th>fr_sulfonamd</th>\n",
       "      <th>fr_sulfone</th>\n",
       "      <th>fr_term_acetylene</th>\n",
       "      <th>fr_tetrazole</th>\n",
       "      <th>fr_thiazole</th>\n",
       "      <th>fr_thiocyan</th>\n",
       "      <th>fr_thiophene</th>\n",
       "      <th>fr_unbrch_alkane</th>\n",
       "      <th>fr_urea</th>\n",
       "    </tr>\n",
       "  </thead>\n",
       "  <tbody>\n",
       "    <tr>\n",
       "      <th>0</th>\n",
       "      <td>12.432081</td>\n",
       "      <td>-0.948091</td>\n",
       "      <td>12.432081</td>\n",
       "      <td>0.027087</td>\n",
       "      <td>0.441438</td>\n",
       "      <td>302.329</td>\n",
       "      <td>288.217</td>\n",
       "      <td>302.094294</td>\n",
       "      <td>112.0</td>\n",
       "      <td>0.0</td>\n",
       "      <td>...</td>\n",
       "      <td>0.0</td>\n",
       "      <td>0.0</td>\n",
       "      <td>0.0</td>\n",
       "      <td>0.0</td>\n",
       "      <td>0.0</td>\n",
       "      <td>0.0</td>\n",
       "      <td>0.0</td>\n",
       "      <td>0.0</td>\n",
       "      <td>0.0</td>\n",
       "      <td>0.0</td>\n",
       "    </tr>\n",
       "    <tr>\n",
       "      <th>1</th>\n",
       "      <td>5.857397</td>\n",
       "      <td>0.392174</td>\n",
       "      <td>5.857397</td>\n",
       "      <td>0.392174</td>\n",
       "      <td>0.417884</td>\n",
       "      <td>393.443</td>\n",
       "      <td>370.259</td>\n",
       "      <td>393.168856</td>\n",
       "      <td>150.0</td>\n",
       "      <td>0.0</td>\n",
       "      <td>...</td>\n",
       "      <td>0.0</td>\n",
       "      <td>0.0</td>\n",
       "      <td>0.0</td>\n",
       "      <td>1.0</td>\n",
       "      <td>0.0</td>\n",
       "      <td>0.0</td>\n",
       "      <td>0.0</td>\n",
       "      <td>0.0</td>\n",
       "      <td>2.0</td>\n",
       "      <td>0.0</td>\n",
       "    </tr>\n",
       "    <tr>\n",
       "      <th>2</th>\n",
       "      <td>5.885438</td>\n",
       "      <td>0.700513</td>\n",
       "      <td>5.885438</td>\n",
       "      <td>0.700513</td>\n",
       "      <td>0.843511</td>\n",
       "      <td>279.731</td>\n",
       "      <td>265.619</td>\n",
       "      <td>279.088688</td>\n",
       "      <td>100.0</td>\n",
       "      <td>0.0</td>\n",
       "      <td>...</td>\n",
       "      <td>0.0</td>\n",
       "      <td>0.0</td>\n",
       "      <td>0.0</td>\n",
       "      <td>0.0</td>\n",
       "      <td>1.0</td>\n",
       "      <td>0.0</td>\n",
       "      <td>0.0</td>\n",
       "      <td>0.0</td>\n",
       "      <td>0.0</td>\n",
       "      <td>0.0</td>\n",
       "    </tr>\n",
       "    <tr>\n",
       "      <th>3</th>\n",
       "      <td>12.685397</td>\n",
       "      <td>-1.250711</td>\n",
       "      <td>12.685397</td>\n",
       "      <td>0.123544</td>\n",
       "      <td>0.517339</td>\n",
       "      <td>325.346</td>\n",
       "      <td>310.226</td>\n",
       "      <td>325.073242</td>\n",
       "      <td>118.0</td>\n",
       "      <td>0.0</td>\n",
       "      <td>...</td>\n",
       "      <td>0.0</td>\n",
       "      <td>0.0</td>\n",
       "      <td>0.0</td>\n",
       "      <td>0.0</td>\n",
       "      <td>0.0</td>\n",
       "      <td>1.0</td>\n",
       "      <td>0.0</td>\n",
       "      <td>0.0</td>\n",
       "      <td>0.0</td>\n",
       "      <td>0.0</td>\n",
       "    </tr>\n",
       "    <tr>\n",
       "      <th>4</th>\n",
       "      <td>11.436250</td>\n",
       "      <td>-0.725463</td>\n",
       "      <td>11.436250</td>\n",
       "      <td>0.011555</td>\n",
       "      <td>0.612348</td>\n",
       "      <td>230.260</td>\n",
       "      <td>212.116</td>\n",
       "      <td>230.115424</td>\n",
       "      <td>92.0</td>\n",
       "      <td>0.0</td>\n",
       "      <td>...</td>\n",
       "      <td>0.0</td>\n",
       "      <td>0.0</td>\n",
       "      <td>0.0</td>\n",
       "      <td>0.0</td>\n",
       "      <td>0.0</td>\n",
       "      <td>0.0</td>\n",
       "      <td>0.0</td>\n",
       "      <td>0.0</td>\n",
       "      <td>0.0</td>\n",
       "      <td>0.0</td>\n",
       "    </tr>\n",
       "  </tbody>\n",
       "</table>\n",
       "<p>5 rows × 200 columns</p>\n",
       "</div>"
      ],
      "text/plain": [
       "   MaxEStateIndex  MinEStateIndex  MaxAbsEStateIndex  MinAbsEStateIndex  \\\n",
       "0       12.432081       -0.948091          12.432081           0.027087   \n",
       "1        5.857397        0.392174           5.857397           0.392174   \n",
       "2        5.885438        0.700513           5.885438           0.700513   \n",
       "3       12.685397       -1.250711          12.685397           0.123544   \n",
       "4       11.436250       -0.725463          11.436250           0.011555   \n",
       "\n",
       "        qed    MolWt  HeavyAtomMolWt  ExactMolWt  NumValenceElectrons  \\\n",
       "0  0.441438  302.329         288.217  302.094294                112.0   \n",
       "1  0.417884  393.443         370.259  393.168856                150.0   \n",
       "2  0.843511  279.731         265.619  279.088688                100.0   \n",
       "3  0.517339  325.346         310.226  325.073242                118.0   \n",
       "4  0.612348  230.260         212.116  230.115424                 92.0   \n",
       "\n",
       "   NumRadicalElectrons  ...  fr_sulfide  fr_sulfonamd  fr_sulfone  \\\n",
       "0                  0.0  ...         0.0           0.0         0.0   \n",
       "1                  0.0  ...         0.0           0.0         0.0   \n",
       "2                  0.0  ...         0.0           0.0         0.0   \n",
       "3                  0.0  ...         0.0           0.0         0.0   \n",
       "4                  0.0  ...         0.0           0.0         0.0   \n",
       "\n",
       "   fr_term_acetylene  fr_tetrazole  fr_thiazole  fr_thiocyan  fr_thiophene  \\\n",
       "0                0.0           0.0          0.0          0.0           0.0   \n",
       "1                1.0           0.0          0.0          0.0           0.0   \n",
       "2                0.0           1.0          0.0          0.0           0.0   \n",
       "3                0.0           0.0          1.0          0.0           0.0   \n",
       "4                0.0           0.0          0.0          0.0           0.0   \n",
       "\n",
       "   fr_unbrch_alkane  fr_urea  \n",
       "0               0.0      0.0  \n",
       "1               2.0      0.0  \n",
       "2               0.0      0.0  \n",
       "3               0.0      0.0  \n",
       "4               0.0      0.0  \n",
       "\n",
       "[5 rows x 200 columns]"
      ]
     },
     "execution_count": 26,
     "metadata": {},
     "output_type": "execute_result"
    }
   ],
   "source": [
    "test_data = get_Descriptors(x_test, desc_names)\n",
    "test_data.head()"
   ]
  },
  {
   "cell_type": "code",
   "execution_count": 27,
   "metadata": {},
   "outputs": [
    {
     "name": "stdout",
     "output_type": "stream",
     "text": [
      "(9470, 200)\n"
     ]
    },
    {
     "data": {
      "text/plain": [
       "(9470, 183)"
      ]
     },
     "execution_count": 27,
     "metadata": {},
     "output_type": "execute_result"
    }
   ],
   "source": [
    "print(test_data.shape)\n",
    "test_data = test_data.drop(mono_columns,axis = 1)\n",
    "test_data = test_data.drop(correlated_columns,axis = 1)\n",
    "test_data.shape"
   ]
  },
  {
   "cell_type": "code",
   "execution_count": 28,
   "metadata": {},
   "outputs": [],
   "source": [
    "appendix = \"desc_\"\n",
    "test_data.to_csv(\"{}{}test.csv\".format(path, appendix),index=None)"
   ]
  }
 ],
 "metadata": {
  "kernelspec": {
   "display_name": "Python 3",
   "language": "python",
   "name": "python3"
  },
  "language_info": {
   "codemirror_mode": {
    "name": "ipython",
    "version": 3
   },
   "file_extension": ".py",
   "mimetype": "text/x-python",
   "name": "python",
   "nbconvert_exporter": "python",
   "pygments_lexer": "ipython3",
   "version": "3.8.5"
  }
 },
 "nbformat": 4,
 "nbformat_minor": 4
}
