{
 "cells": [
  {
   "cell_type": "code",
   "execution_count": 7,
   "metadata": {},
   "outputs": [],
   "source": [
    "import numpy as np\n",
    "import pandas as pd\n",
    "import seaborn as sns\n",
    "import json\n",
    "\n",
    "from rdkit import Chem\n",
    "from sklearn.model_selection import train_test_split"
   ]
  },
  {
   "cell_type": "code",
   "execution_count": 8,
   "metadata": {},
   "outputs": [],
   "source": [
    "path = \"data/\"\n",
    "file = \"smiles_train.txt\"\n",
    "seed = 0"
   ]
  },
  {
   "cell_type": "code",
   "execution_count": 9,
   "metadata": {},
   "outputs": [
    {
     "data": {
      "text/html": [
       "<div>\n",
       "<style scoped>\n",
       "    .dataframe tbody tr th:only-of-type {\n",
       "        vertical-align: middle;\n",
       "    }\n",
       "\n",
       "    .dataframe tbody tr th {\n",
       "        vertical-align: top;\n",
       "    }\n",
       "\n",
       "    .dataframe thead th {\n",
       "        text-align: right;\n",
       "    }\n",
       "</style>\n",
       "<table border=\"1\" class=\"dataframe\">\n",
       "  <thead>\n",
       "    <tr style=\"text-align: right;\">\n",
       "      <th></th>\n",
       "      <th>Smiles</th>\n",
       "    </tr>\n",
       "  </thead>\n",
       "  <tbody>\n",
       "    <tr>\n",
       "      <th>0</th>\n",
       "      <td>O=C1C(=Cc2ccc(F)cc2)Sc2ccccc21</td>\n",
       "    </tr>\n",
       "    <tr>\n",
       "      <th>1</th>\n",
       "      <td>COc1ccc(N2CCN(C(=O)c3cc4ccccc4[nH]3)CC2)cc1</td>\n",
       "    </tr>\n",
       "    <tr>\n",
       "      <th>2</th>\n",
       "      <td>c1ccc(CCCNC2CCCCN(CCOC(c3ccccc3)c3ccccc3)C2)cc1</td>\n",
       "    </tr>\n",
       "    <tr>\n",
       "      <th>3</th>\n",
       "      <td>Nc1nc(O)c(Br)c(-c2cccc(O)c2)n1</td>\n",
       "    </tr>\n",
       "    <tr>\n",
       "      <th>4</th>\n",
       "      <td>CCc1nc2ccc(Br)cc2c(=O)n1-c1nc2c(C)cc(C)cc2s1</td>\n",
       "    </tr>\n",
       "  </tbody>\n",
       "</table>\n",
       "</div>"
      ],
      "text/plain": [
       "                                            Smiles\n",
       "0                   O=C1C(=Cc2ccc(F)cc2)Sc2ccccc21\n",
       "1      COc1ccc(N2CCN(C(=O)c3cc4ccccc4[nH]3)CC2)cc1\n",
       "2  c1ccc(CCCNC2CCCCN(CCOC(c3ccccc3)c3ccccc3)C2)cc1\n",
       "3                   Nc1nc(O)c(Br)c(-c2cccc(O)c2)n1\n",
       "4     CCc1nc2ccc(Br)cc2c(=O)n1-c1nc2c(C)cc(C)cc2s1"
      ]
     },
     "execution_count": 9,
     "metadata": {},
     "output_type": "execute_result"
    }
   ],
   "source": [
    "df = pd.read_csv(\"{}{}\".format(path, file), names = [\"Smiles\"])\n",
    "df.head()"
   ]
  },
  {
   "cell_type": "code",
   "execution_count": 10,
   "metadata": {},
   "outputs": [
    {
     "name": "stdout",
     "output_type": "stream",
     "text": [
      "(1272851, 1)\n",
      "(1272851, 1)\n",
      "Index([], dtype='object')\n"
     ]
    }
   ],
   "source": [
    "#Check for duplicates\n",
    "print(df.shape)\n",
    "df = df.drop_duplicates(ignore_index=True)\n",
    "print(df.shape)\n",
    "#Check for null values\n",
    "print(df.columns[df.isnull().sum() > 0])"
   ]
  },
  {
   "cell_type": "code",
   "execution_count": 11,
   "metadata": {},
   "outputs": [
    {
     "data": {
      "text/plain": [
       "<matplotlib.axes._subplots.AxesSubplot at 0x1aa40718c48>"
      ]
     },
     "execution_count": 11,
     "metadata": {},
     "output_type": "execute_result"
    },
    {
     "data": {
      "image/png": "[encoded data removed]",
      "text/plain": [
       "<Figure size 432x288 with 1 Axes>"
      ]
     },
     "metadata": {
      "needs_background": "light"
     },
     "output_type": "display_data"
    }
   ],
   "source": [
    "sns.distplot(df[\"Smiles\"].str.len(), hist=True, kde=True, \n",
    "             bins=int(180/5), color = 'darkblue', \n",
    "             hist_kws={'edgecolor':'black'},\n",
    "             kde_kws={'linewidth': 4})"
   ]
  },
  {
   "cell_type": "code",
   "execution_count": 12,
   "metadata": {},
   "outputs": [],
   "source": [
    "def check_Validity(df):\n",
    "    num_mol = len(df[\"Smiles\"])\n",
    "    verbosity = int(num_mol*0.05)\n",
    "    drop_index = []\n",
    "    for i in range(num_mol):\n",
    "        smile = df[\"Smiles\"][i]\n",
    "        if  i % verbosity == 0:\n",
    "            print(\"{} out of {} = {}%\".format(i,num_mol, int(i*100/num_mol)))\n",
    "        mol = Chem.MolFromSmiles(smile)\n",
    "        if mol is None:\n",
    "            print(\"Invalid Molecule at index {}, {}\".format(i,smile))\n",
    "            drop_index.append(i)\n",
    "    \n",
    "    return df.drop(drop_index).reset_index(drop=True)"
   ]
  },
  {
   "cell_type": "code",
   "execution_count": 13,
   "metadata": {},
   "outputs": [
    {
     "name": "stdout",
     "output_type": "stream",
     "text": [
      "(1272851, 1)\n",
      "0 out of 1272851 = 0%\n",
      "63642 out of 1272851 = 4%\n",
      "127284 out of 1272851 = 9%\n",
      "190926 out of 1272851 = 14%\n",
      "254568 out of 1272851 = 19%\n",
      "318210 out of 1272851 = 24%\n",
      "381852 out of 1272851 = 29%\n",
      "445494 out of 1272851 = 34%\n",
      "509136 out of 1272851 = 39%\n",
      "572778 out of 1272851 = 44%\n",
      "636420 out of 1272851 = 49%\n",
      "700062 out of 1272851 = 54%\n",
      "763704 out of 1272851 = 59%\n",
      "827346 out of 1272851 = 64%\n",
      "890988 out of 1272851 = 69%\n",
      "954630 out of 1272851 = 74%\n",
      "1018272 out of 1272851 = 79%\n",
      "1081914 out of 1272851 = 84%\n",
      "1145556 out of 1272851 = 89%\n",
      "1209198 out of 1272851 = 94%\n",
      "1272840 out of 1272851 = 99%\n",
      "(1272851, 1)\n"
     ]
    },
    {
     "data": {
      "text/html": [
       "<div>\n",
       "<style scoped>\n",
       "    .dataframe tbody tr th:only-of-type {\n",
       "        vertical-align: middle;\n",
       "    }\n",
       "\n",
       "    .dataframe tbody tr th {\n",
       "        vertical-align: top;\n",
       "    }\n",
       "\n",
       "    .dataframe thead th {\n",
       "        text-align: right;\n",
       "    }\n",
       "</style>\n",
       "<table border=\"1\" class=\"dataframe\">\n",
       "  <thead>\n",
       "    <tr style=\"text-align: right;\">\n",
       "      <th></th>\n",
       "      <th>Smiles</th>\n",
       "    </tr>\n",
       "  </thead>\n",
       "  <tbody>\n",
       "    <tr>\n",
       "      <th>0</th>\n",
       "      <td>O=C1C(=Cc2ccc(F)cc2)Sc2ccccc21</td>\n",
       "    </tr>\n",
       "    <tr>\n",
       "      <th>1</th>\n",
       "      <td>COc1ccc(N2CCN(C(=O)c3cc4ccccc4[nH]3)CC2)cc1</td>\n",
       "    </tr>\n",
       "    <tr>\n",
       "      <th>2</th>\n",
       "      <td>c1ccc(CCCNC2CCCCN(CCOC(c3ccccc3)c3ccccc3)C2)cc1</td>\n",
       "    </tr>\n",
       "    <tr>\n",
       "      <th>3</th>\n",
       "      <td>Nc1nc(O)c(Br)c(-c2cccc(O)c2)n1</td>\n",
       "    </tr>\n",
       "    <tr>\n",
       "      <th>4</th>\n",
       "      <td>CCc1nc2ccc(Br)cc2c(=O)n1-c1nc2c(C)cc(C)cc2s1</td>\n",
       "    </tr>\n",
       "  </tbody>\n",
       "</table>\n",
       "</div>"
      ],
      "text/plain": [
       "                                            Smiles\n",
       "0                   O=C1C(=Cc2ccc(F)cc2)Sc2ccccc21\n",
       "1      COc1ccc(N2CCN(C(=O)c3cc4ccccc4[nH]3)CC2)cc1\n",
       "2  c1ccc(CCCNC2CCCCN(CCOC(c3ccccc3)c3ccccc3)C2)cc1\n",
       "3                   Nc1nc(O)c(Br)c(-c2cccc(O)c2)n1\n",
       "4     CCc1nc2ccc(Br)cc2c(=O)n1-c1nc2c(C)cc(C)cc2s1"
      ]
     },
     "execution_count": 13,
     "metadata": {},
     "output_type": "execute_result"
    }
   ],
   "source": [
    "print(df.shape)\n",
    "df = check_Validity(df)\n",
    "print(df.shape)\n",
    "df.head()"
   ]
  },
  {
   "cell_type": "code",
   "execution_count": 14,
   "metadata": {},
   "outputs": [],
   "source": [
    "X_train, X_val = train_test_split(df, test_size=0.33, random_state=42)"
   ]
  },
  {
   "cell_type": "code",
   "execution_count": 15,
   "metadata": {},
   "outputs": [],
   "source": [
    "appendix = \"pp\"\n",
    "X_train.to_csv(f\"{path}{appendix}_smiles_train.txt\", index=None)\n",
    "X_val.to_csv(f\"{path}{appendix}_smiles_val.txt\", index=None)"
   ]
  },
  {
   "cell_type": "code",
   "execution_count": 22,
   "metadata": {},
   "outputs": [],
   "source": [
    "fixedEntries = {0: \"Padding\", 1:\"Start\", 2: \"\\n\"}\n",
    "smilesString = df[\"Smiles\"].to_string(index=False)\n",
    "int2char = dict(enumerate(sorted(set(smilesString)), len(fixedEntries)))\n",
    "int2char.update(fixedEntries)\n",
    "with open(f\"{path}/int2char.txt\", 'w') as f:\n",
    "    json.dump(int2char, f)"
   ]
  }
 ],
 "metadata": {
  "kernelspec": {
   "display_name": "AiLs",
   "language": "python",
   "name": "ails"
  },
  "language_info": {
   "codemirror_mode": {
    "name": "ipython",
    "version": 3
   },
   "file_extension": ".py",
   "mimetype": "text/x-python",
   "name": "python",
   "nbconvert_exporter": "python",
   "pygments_lexer": "ipython3",
   "version": "3.7.6"
  }
 },
 "nbformat": 4,
 "nbformat_minor": 4
}
